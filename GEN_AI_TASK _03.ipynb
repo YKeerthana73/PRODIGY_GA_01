{
 "cells": [
  {
   "cell_type": "code",
   "execution_count": 3,
   "id": "90d0b36a",
   "metadata": {},
   "outputs": [
    {
     "name": "stdout",
     "output_type": "stream",
     "text": [
      "Generated Text:\n",
      "a small brown dog\n"
     ]
    }
   ],
   "source": [
    "import random\n",
    "\n",
    "transitions = {\n",
    "    'start': {'the': 0.2, 'a': 0.1, 'he': 0.1, 'she': 0.1},\n",
    "    'the': {'small': 0.5, 'lazy': 0.5},\n",
    "    'a': {'small': 0.5, 'lazy': 0.5},\n",
    "    'he': {'small': 0.5, 'lazy': 0.5},\n",
    "    'she': {'small': 0.5, 'lazy': 0.5},\n",
    "    'small': {'brown': 1.0},\n",
    "    'lazy': {'cat': 1.0},\n",
    "    'brown': {'dog': 1.0},\n",
    "    'cat': {'jumped': 1.0},\n",
    "    'jumped': {'over': 1.0, 'end': 1.0},\n",
    "    'over': {'the': 0.5, 'a': 0.5},\n",
    "    'dog': {'end': 1.0},\n",
    "    'end': {}\n",
    "}\n",
    "\n",
    "def generate_text(length):\n",
    "    current_word = random.choice(list(transitions['start'].keys()))\n",
    "    text = [current_word]\n",
    "\n",
    "    for _ in range(length - 1):\n",
    "        next_words = transitions.get(current_word, {})\n",
    "        if not next_words or 'end' in next_words:  # If no next words or reach end\n",
    "            break\n",
    "        next_word = random.choices(\n",
    "            list(next_words.keys()), \n",
    "            weights=list(next_words.values()), \n",
    "            k=1\n",
    "        )[0]\n",
    "        text.append(next_word)\n",
    "        current_word = next_word  \n",
    "\n",
    "    return ' '.join(text)\n",
    "\n",
    "# Example usage\n",
    "if __name__ == \"__main__\":\n",
    "    generated_text = generate_text(10)\n",
    "    print(\"Generated Text:\")\n",
    "    print(generated_text)\n"
   ]
  },
  {
   "cell_type": "code",
   "execution_count": null,
   "id": "15abfa3e",
   "metadata": {},
   "outputs": [],
   "source": []
  },
  {
   "cell_type": "code",
   "execution_count": null,
   "id": "ff5c5f07",
   "metadata": {},
   "outputs": [],
   "source": []
  }
 ],
 "metadata": {
  "kernelspec": {
   "display_name": "Python 3 (ipykernel)",
   "language": "python",
   "name": "python3"
  },
  "language_info": {
   "codemirror_mode": {
    "name": "ipython",
    "version": 3
   },
   "file_extension": ".py",
   "mimetype": "text/x-python",
   "name": "python",
   "nbconvert_exporter": "python",
   "pygments_lexer": "ipython3",
   "version": "3.12.0"
  }
 },
 "nbformat": 4,
 "nbformat_minor": 5
}
